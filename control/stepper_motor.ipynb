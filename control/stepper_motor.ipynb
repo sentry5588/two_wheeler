{
 "cells": [
  {
   "cell_type": "markdown",
   "metadata": {},
   "source": [
    "Without microstepping, the stepper motors have 200 steps per revolution. However, it has chatter/rattle around 100 steps per second, which is roughly 30 rpm. The intended control loop time step is 10 ms. Therefore, microstepping will be used.\n",
    "\n",
    "### Problem 1. Which microstepping to use: 1/2, 1/4, 1/8 or 1/16?\n",
    "Solution: 2 things determine the microstepping size. 1) Required minimum travel distance determines the minimum microstepping size. 2) Required max speed determines the max microstepping size.\n",
    "\n",
    "Intended min speed for the robot is 0.5mm and max speed is 0.4 m/s. So 1/4 microstepping will be initially selected."
   ]
  },
  {
   "cell_type": "code",
   "execution_count": 48,
   "metadata": {},
   "outputs": [
    {
     "name": "stdout",
     "output_type": "stream",
     "text": [
      "Min achievable travel distance: 0.236 mm\n",
      "Max achievable speed: 0.471 m/s\n"
     ]
    }
   ],
   "source": [
    "# %reset\n",
    "import numpy as np\n",
    "r = 0.03 # Radius of the wheel (m)\n",
    "c = 2.0 * np.pi * r\n",
    "s = 200 # Number of full steps per revolution\n",
    "step = 500e-6 # Stepper motor interrupt interval (s)\n",
    "\n",
    "# assume microstep is 1/4\n",
    "m = 1/4\n",
    "print('Min achievable travel distance: {0:2.3f} mm'.format(c / s * m * 1000))\n",
    "print('Max achievable speed: {0:2.3f} m/s'.format(c / (s / m * step)))\n"
   ]
  }
 ],
 "metadata": {
  "kernelspec": {
   "display_name": "Python 3",
   "language": "python",
   "name": "python3"
  },
  "language_info": {
   "codemirror_mode": {
    "name": "ipython",
    "version": 3
   },
   "file_extension": ".py",
   "mimetype": "text/x-python",
   "name": "python",
   "nbconvert_exporter": "python",
   "pygments_lexer": "ipython3",
   "version": "3.7.1"
  }
 },
 "nbformat": 4,
 "nbformat_minor": 2
}
